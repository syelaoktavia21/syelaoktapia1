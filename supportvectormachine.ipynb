{
  "nbformat": 4,
  "nbformat_minor": 0,
  "metadata": {
    "colab": {
      "provenance": []
    },
    "kernelspec": {
      "name": "python3",
      "display_name": "Python 3"
    },
    "language_info": {
      "name": "python"
    }
  },
  "cells": [
    {
      "cell_type": "markdown",
      "source": [
        "dataset dan deskripsi data:\n",
        "https://www.kaggle.com/datasets/johnsmith88/heart-disease-dataset"
      ],
      "metadata": {
        "id": "onNEC3inruI1"
      }
    },
    {
      "cell_type": "code",
      "source": [
        "import pandas as pd\n",
        "import numpy as np\n",
        "from sklearn.model_selection import train_test_split\n",
        "from sklearn.svm import SVC\n",
        "from sklearn.metrics import accuracy_score, precision_score, recall_score, f1_score"
      ],
      "metadata": {
        "id": "uKLdiMgqoNF9"
      },
      "execution_count": 17,
      "outputs": []
    },
    {
      "cell_type": "code",
      "source": [
        "# memuat dataset\n",
        "df = pd.read_csv('/content/dataset.csv')"
      ],
      "metadata": {
        "id": "QAELQyMpoNJW"
      },
      "execution_count": 18,
      "outputs": []
    },
    {
      "cell_type": "code",
      "source": [
        "# menampilkan info/isi dataset\n",
        "df.info"
      ],
      "metadata": {
        "colab": {
          "base_uri": "https://localhost:8080/"
        },
        "id": "CtBIzkbOoNdx",
        "outputId": "2b49d8af-b6dd-4641-e2a3-2c6281af1a05"
      },
      "execution_count": 19,
      "outputs": [
        {
          "output_type": "execute_result",
          "data": {
            "text/plain": [
              "<bound method DataFrame.info of      age  sex  cp  trestbps  chol  fbs  restecg  thalach  exang  oldpeak  \\\n",
              "0     63    1   3       145   233    1        0      150      0      2.3   \n",
              "1     37    1   2       130   250    0        1      187      0      3.5   \n",
              "2     41    0   1       130   204    0        0      172      0      1.4   \n",
              "3     56    1   1       120   236    0        1      178      0      0.8   \n",
              "4     57    0   0       120   354    0        1      163      1      0.6   \n",
              "..   ...  ...  ..       ...   ...  ...      ...      ...    ...      ...   \n",
              "298   57    0   0       140   241    0        1      123      1      0.2   \n",
              "299   45    1   3       110   264    0        1      132      0      1.2   \n",
              "300   68    1   0       144   193    1        1      141      0      3.4   \n",
              "301   57    1   0       130   131    0        1      115      1      1.2   \n",
              "302   57    0   1       130   236    0        0      174      0      0.0   \n",
              "\n",
              "     slope  ca  thal  target  \n",
              "0        0   0     1       1  \n",
              "1        0   0     2       1  \n",
              "2        2   0     2       1  \n",
              "3        2   0     2       1  \n",
              "4        2   0     2       1  \n",
              "..     ...  ..   ...     ...  \n",
              "298      1   0     3       0  \n",
              "299      1   0     3       0  \n",
              "300      1   2     3       0  \n",
              "301      1   1     3       0  \n",
              "302      1   1     2       0  \n",
              "\n",
              "[303 rows x 14 columns]>"
            ]
          },
          "metadata": {},
          "execution_count": 19
        }
      ]
    },
    {
      "cell_type": "code",
      "source": [
        "# menghitung jumlah nilai yang hilang (missing values) \n",
        "df.isnull().sum()"
      ],
      "metadata": {
        "colab": {
          "base_uri": "https://localhost:8080/"
        },
        "id": "NYNS03iUoNse",
        "outputId": "b55ed8c6-9078-4897-c1c5-0f581593dda3"
      },
      "execution_count": 20,
      "outputs": [
        {
          "output_type": "execute_result",
          "data": {
            "text/plain": [
              "age         0\n",
              "sex         0\n",
              "cp          0\n",
              "trestbps    0\n",
              "chol        0\n",
              "fbs         0\n",
              "restecg     0\n",
              "thalach     0\n",
              "exang       0\n",
              "oldpeak     0\n",
              "slope       0\n",
              "ca          0\n",
              "thal        0\n",
              "target      0\n",
              "dtype: int64"
            ]
          },
          "metadata": {},
          "execution_count": 20
        }
      ]
    },
    {
      "cell_type": "code",
      "source": [
        "# Drop kolom yang ingin dihapus\n",
        "df = df.drop(['sex'], axis=1)"
      ],
      "metadata": {
        "id": "oPZs2k5Ct99B"
      },
      "execution_count": 21,
      "outputs": []
    },
    {
      "cell_type": "code",
      "source": [
        "df.info"
      ],
      "metadata": {
        "colab": {
          "base_uri": "https://localhost:8080/"
        },
        "id": "o2LKV5SWudCy",
        "outputId": "82735a1b-04fb-47a5-ab3a-c92d6d3e25b6"
      },
      "execution_count": 22,
      "outputs": [
        {
          "output_type": "execute_result",
          "data": {
            "text/plain": [
              "<bound method DataFrame.info of      age  cp  trestbps  chol  fbs  restecg  thalach  exang  oldpeak  slope  \\\n",
              "0     63   3       145   233    1        0      150      0      2.3      0   \n",
              "1     37   2       130   250    0        1      187      0      3.5      0   \n",
              "2     41   1       130   204    0        0      172      0      1.4      2   \n",
              "3     56   1       120   236    0        1      178      0      0.8      2   \n",
              "4     57   0       120   354    0        1      163      1      0.6      2   \n",
              "..   ...  ..       ...   ...  ...      ...      ...    ...      ...    ...   \n",
              "298   57   0       140   241    0        1      123      1      0.2      1   \n",
              "299   45   3       110   264    0        1      132      0      1.2      1   \n",
              "300   68   0       144   193    1        1      141      0      3.4      1   \n",
              "301   57   0       130   131    0        1      115      1      1.2      1   \n",
              "302   57   1       130   236    0        0      174      0      0.0      1   \n",
              "\n",
              "     ca  thal  target  \n",
              "0     0     1       1  \n",
              "1     0     2       1  \n",
              "2     0     2       1  \n",
              "3     0     2       1  \n",
              "4     0     2       1  \n",
              "..   ..   ...     ...  \n",
              "298   0     3       0  \n",
              "299   0     3       0  \n",
              "300   2     3       0  \n",
              "301   1     3       0  \n",
              "302   1     2       0  \n",
              "\n",
              "[303 rows x 13 columns]>"
            ]
          },
          "metadata": {},
          "execution_count": 22
        }
      ]
    },
    {
      "cell_type": "code",
      "source": [
        "# Tentukan fitur (X) dan target (y)\n",
        "X = df.iloc[:, 0:12]\n",
        "y = df.iloc[:, 12.values"
      ],
      "metadata": {
        "id": "-3DMD-Urr-Yj"
      },
      "execution_count": 13,
      "outputs": []
    },
    {
      "cell_type": "markdown",
      "source": [
        "X merepresentasikan fitur atau variabel bebas yang digunakan untuk melakukan prediksi, sedangkan y merepresentasikan variabel dependen atau target yang ingin diprediksi."
      ],
      "metadata": {
        "id": "fnotCbJdv-_g"
      }
    },
    {
      "cell_type": "code",
      "source": [
        "# Bagi data menjadi data latih dan data uji dengan rasio 80:20\n",
        "X_train, X_test, y_train, y_test = train_test_split(X, y, test_size=0.1, train_size=0.9, random_state=45)"
      ],
      "metadata": {
        "id": "LSzWoHtNr-j_"
      },
      "execution_count": 14,
      "outputs": []
    },
    {
      "cell_type": "code",
      "source": [
        "# model svm untuk klasifikasi\n",
        "modelsvm = SVC(kernel='linear')\n",
        "modelsvm.fit(X_train, y_train)\n",
        "y_pred = modelsvm.predict(X_test)"
      ],
      "metadata": {
        "id": "9eSl52IDtJqL"
      },
      "execution_count": 15,
      "outputs": []
    },
    {
      "cell_type": "code",
      "source": [
        "# Menghitung akurasi\n",
        "accuracy = accuracy_score(y_test, y_pred)\n",
        "print(\"Accuracy: {:.2f}%\".format(accuracy * 100))\n",
        "\n",
        "# Menghitung precision\n",
        "precision = precision_score(y_test, y_pred)\n",
        "print(\"Precision: {:.2f}%\".format(precision * 100))\n",
        "\n",
        "# Menghitung recall\n",
        "recall = recall_score(y_test, y_pred)\n",
        "print(\"Recall: {:.2f}%\".format(recall * 100))\n",
        "\n",
        "# Menghitung F1-score\n",
        "f1 = f1_score(y_test, y_pred)\n",
        "print(\"F1-score: {:.2f}%\".format(f1 * 100))"
      ],
      "metadata": {
        "colab": {
          "base_uri": "https://localhost:8080/"
        },
        "id": "fb8vD9l6thN5",
        "outputId": "dc4dff84-111a-40fa-b205-4e2bd1912341"
      },
      "execution_count": 16,
      "outputs": [
        {
          "output_type": "stream",
          "name": "stdout",
          "text": [
            "Accuracy: 93.55%\n",
            "Precision: 95.45%\n",
            "Recall: 95.45%\n",
            "F1-score: 95.45%\n"
          ]
        }
      ]
    }
  ]
}